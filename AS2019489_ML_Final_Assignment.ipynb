{
  "cells": [
    {
      "cell_type": "markdown",
      "metadata": {
        "id": "view-in-github",
        "colab_type": "text"
      },
      "source": [
        "<a href=\"https://colab.research.google.com/github/VihangaPerera/ML/blob/main/AS2019489_ML_Final_Assignment.ipynb\" target=\"_parent\"><img src=\"https://colab.research.google.com/assets/colab-badge.svg\" alt=\"Open In Colab\"/></a>"
      ]
    },
    {
      "cell_type": "code",
      "execution_count": 501,
      "id": "87b114d9",
      "metadata": {
        "id": "87b114d9"
      },
      "outputs": [],
      "source": [
        "##### Question 01 - KNN Model"
      ]
    },
    {
      "cell_type": "code",
      "execution_count": 502,
      "id": "d91d01df",
      "metadata": {
        "scrolled": false,
        "id": "d91d01df"
      },
      "outputs": [],
      "source": [
        "import pandas as pd\n",
        "import numpy as np\n",
        "import sklearn.metrics as sm\n",
        "import seaborn \n",
        "from sklearn import metrics\n",
        "from sklearn.metrics import confusion_matrix\n",
        "from sklearn.neighbors import KNeighborsClassifier\n",
        "from sklearn.model_selection import train_test_split\n",
        "from sklearn.preprocessing import LabelEncoder\n",
        "\n",
        "dataSet = pd.read_csv('Mobile_Dataset.csv')\n"
      ]
    },
    {
      "cell_type": "code",
      "execution_count": 503,
      "metadata": {
        "id": "ecd3ef0b"
      },
      "outputs": [],
      "source": [
        "#There are some coloumns, their values cannot be zero practically\n",
        "dataSet[[\"battery_power\",\"clock_speed\",\"fc\",\"int_memory\",\"m_dep\",\"mobile_wt\",\"n_cores\",\"pc\",\"px_height\",\"px_width\",\"ram\",\"sc_h\",\"sc_w\"]]=dataSet[[\"battery_power\",\"clock_speed\",\"fc\",\"int_memory\",\"m_dep\",\"mobile_wt\",\"n_cores\",\"pc\",\"px_height\",\"px_width\",\"ram\",\"sc_h\",\"sc_w\"]]=dataSet[[\"battery_power\",\"clock_speed\",\"fc\",\"int_memory\",\"m_dep\",\"mobile_wt\",\"n_cores\",\"pc\",\"px_height\",\"px_width\",\"ram\",\"sc_h\",\"sc_w\"]].replace(0,np.NAN)\n"
      ],
      "id": "ecd3ef0b"
    },
    {
      "cell_type": "code",
      "execution_count": 504,
      "id": "8eae0a48",
      "metadata": {
        "colab": {
          "base_uri": "https://localhost:8080/"
        },
        "id": "8eae0a48",
        "outputId": "ba014106-5832-4eed-bc72-8093686f6821"
      },
      "outputs": [
        {
          "output_type": "stream",
          "name": "stdout",
          "text": [
            "battery_power      0\n",
            "blue               0\n",
            "clock_speed        0\n",
            "dual_sim           0\n",
            "fc               474\n",
            "four_g             0\n",
            "int_memory         0\n",
            "m_dep              0\n",
            "mobile_wt          0\n",
            "n_cores            0\n",
            "pc               101\n",
            "px_height          2\n",
            "px_width           0\n",
            "ram                0\n",
            "sc_h               0\n",
            "sc_w             180\n",
            "talk_time          0\n",
            "three_g            0\n",
            "touch_screen       0\n",
            "wifi               0\n",
            "price_range        0\n",
            "dtype: int64\n"
          ]
        }
      ],
      "source": [
        "print(dataSet.isnull().sum())"
      ]
    },
    {
      "cell_type": "code",
      "execution_count": 505,
      "id": "8db86a5a",
      "metadata": {
        "id": "8db86a5a"
      },
      "outputs": [],
      "source": [
        "dataSet.fillna(dataSet.mean(),inplace=True)"
      ]
    },
    {
      "cell_type": "code",
      "execution_count": 506,
      "id": "c8f33252",
      "metadata": {
        "colab": {
          "base_uri": "https://localhost:8080/"
        },
        "id": "c8f33252",
        "outputId": "8f25252e-b26e-4302-d4f4-22b6d210d3ca"
      },
      "outputs": [
        {
          "output_type": "stream",
          "name": "stdout",
          "text": [
            "battery_power    0\n",
            "blue             0\n",
            "clock_speed      0\n",
            "dual_sim         0\n",
            "fc               0\n",
            "four_g           0\n",
            "int_memory       0\n",
            "m_dep            0\n",
            "mobile_wt        0\n",
            "n_cores          0\n",
            "pc               0\n",
            "px_height        0\n",
            "px_width         0\n",
            "ram              0\n",
            "sc_h             0\n",
            "sc_w             0\n",
            "talk_time        0\n",
            "three_g          0\n",
            "touch_screen     0\n",
            "wifi             0\n",
            "price_range      0\n",
            "dtype: int64\n"
          ]
        }
      ],
      "source": [
        "print(dataSet.isnull().sum())"
      ]
    },
    {
      "cell_type": "code",
      "execution_count": 507,
      "id": "1a23c16b",
      "metadata": {
        "id": "1a23c16b"
      },
      "outputs": [],
      "source": [
        "labelEncoder = LabelEncoder()"
      ]
    },
    {
      "cell_type": "code",
      "execution_count": 508,
      "id": "015a410f",
      "metadata": {
        "id": "015a410f"
      },
      "outputs": [],
      "source": [
        "transformedData = dataSet.copy()"
      ]
    },
    {
      "cell_type": "code",
      "execution_count": 509,
      "id": "cf1eb91c",
      "metadata": {
        "id": "cf1eb91c"
      },
      "outputs": [],
      "source": [
        "for data in dataSet:\n",
        "    dataSet[data]=labelEncoder.fit_transform(dataSet[data])\n",
        "    \n",
        "    "
      ]
    },
    {
      "cell_type": "code",
      "source": [
        "dataSet\n"
      ],
      "metadata": {
        "colab": {
          "base_uri": "https://localhost:8080/",
          "height": 488
        },
        "id": "sCdrf3hp2fxY",
        "outputId": "a35653c3-c6eb-437d-829c-01bc007e1508"
      },
      "id": "sCdrf3hp2fxY",
      "execution_count": 510,
      "outputs": [
        {
          "output_type": "execute_result",
          "data": {
            "text/plain": [
              "      battery_power  blue  clock_speed  dual_sim  fc  four_g  int_memory  \\\n",
              "0               255     0           17         0   0       0           5   \n",
              "1               382     1            0         1   5       1          51   \n",
              "2                48     1            0         1   1       1          39   \n",
              "3                88     1           20         0   5       0           8   \n",
              "4               954     1            7         0  13       1          42   \n",
              "...             ...   ...          ...       ...  ..     ...         ...   \n",
              "1995            216     1            0         1   5       1           0   \n",
              "1996           1064     1           21         1   5       0          37   \n",
              "1997           1027     0            4         1   0       1          34   \n",
              "1998            732     0            4         0   3       1          44   \n",
              "1999              8     1           15         1   4       1          43   \n",
              "\n",
              "      m_dep  mobile_wt  n_cores  ...  px_height  px_width   ram  sc_h  sc_w  \\\n",
              "0         5        108        1  ...         17       186   963     4     7   \n",
              "1         6         56        2  ...        738      1099   998    12     2   \n",
              "2         8         65        4  ...        962       901   984     6     1   \n",
              "3         7         51        5  ...        935       954  1055    11     8   \n",
              "4         5         61        1  ...        928       517   499     3     1   \n",
              "...     ...        ...      ...  ...        ...       ...   ...   ...   ...   \n",
              "1995      7         26        5  ...        939      1022   180     8     3   \n",
              "1996      1        107        3  ...        745      1080   732     6    10   \n",
              "1997      6         28        7  ...        716       834  1158     4     0   \n",
              "1998      0         65        4  ...        282       120   266    13    10   \n",
              "1999      8         88        5  ...        412       184  1526    14     3   \n",
              "\n",
              "      talk_time  three_g  touch_screen  wifi  price_range  \n",
              "0            17        0             0     1            1  \n",
              "1             5        1             1     0            2  \n",
              "2             7        1             1     0            2  \n",
              "3             9        1             0     0            2  \n",
              "4            13        1             1     0            1  \n",
              "...         ...      ...           ...   ...          ...  \n",
              "1995         17        1             1     0            0  \n",
              "1996         14        1             1     1            2  \n",
              "1997          3        1             1     0            3  \n",
              "1998         17        1             1     1            0  \n",
              "1999          0        1             1     1            3  \n",
              "\n",
              "[2000 rows x 21 columns]"
            ],
            "text/html": [
              "\n",
              "  <div id=\"df-c74c0d52-7bfc-4cba-979e-3591c46104d9\">\n",
              "    <div class=\"colab-df-container\">\n",
              "      <div>\n",
              "<style scoped>\n",
              "    .dataframe tbody tr th:only-of-type {\n",
              "        vertical-align: middle;\n",
              "    }\n",
              "\n",
              "    .dataframe tbody tr th {\n",
              "        vertical-align: top;\n",
              "    }\n",
              "\n",
              "    .dataframe thead th {\n",
              "        text-align: right;\n",
              "    }\n",
              "</style>\n",
              "<table border=\"1\" class=\"dataframe\">\n",
              "  <thead>\n",
              "    <tr style=\"text-align: right;\">\n",
              "      <th></th>\n",
              "      <th>battery_power</th>\n",
              "      <th>blue</th>\n",
              "      <th>clock_speed</th>\n",
              "      <th>dual_sim</th>\n",
              "      <th>fc</th>\n",
              "      <th>four_g</th>\n",
              "      <th>int_memory</th>\n",
              "      <th>m_dep</th>\n",
              "      <th>mobile_wt</th>\n",
              "      <th>n_cores</th>\n",
              "      <th>...</th>\n",
              "      <th>px_height</th>\n",
              "      <th>px_width</th>\n",
              "      <th>ram</th>\n",
              "      <th>sc_h</th>\n",
              "      <th>sc_w</th>\n",
              "      <th>talk_time</th>\n",
              "      <th>three_g</th>\n",
              "      <th>touch_screen</th>\n",
              "      <th>wifi</th>\n",
              "      <th>price_range</th>\n",
              "    </tr>\n",
              "  </thead>\n",
              "  <tbody>\n",
              "    <tr>\n",
              "      <th>0</th>\n",
              "      <td>255</td>\n",
              "      <td>0</td>\n",
              "      <td>17</td>\n",
              "      <td>0</td>\n",
              "      <td>0</td>\n",
              "      <td>0</td>\n",
              "      <td>5</td>\n",
              "      <td>5</td>\n",
              "      <td>108</td>\n",
              "      <td>1</td>\n",
              "      <td>...</td>\n",
              "      <td>17</td>\n",
              "      <td>186</td>\n",
              "      <td>963</td>\n",
              "      <td>4</td>\n",
              "      <td>7</td>\n",
              "      <td>17</td>\n",
              "      <td>0</td>\n",
              "      <td>0</td>\n",
              "      <td>1</td>\n",
              "      <td>1</td>\n",
              "    </tr>\n",
              "    <tr>\n",
              "      <th>1</th>\n",
              "      <td>382</td>\n",
              "      <td>1</td>\n",
              "      <td>0</td>\n",
              "      <td>1</td>\n",
              "      <td>5</td>\n",
              "      <td>1</td>\n",
              "      <td>51</td>\n",
              "      <td>6</td>\n",
              "      <td>56</td>\n",
              "      <td>2</td>\n",
              "      <td>...</td>\n",
              "      <td>738</td>\n",
              "      <td>1099</td>\n",
              "      <td>998</td>\n",
              "      <td>12</td>\n",
              "      <td>2</td>\n",
              "      <td>5</td>\n",
              "      <td>1</td>\n",
              "      <td>1</td>\n",
              "      <td>0</td>\n",
              "      <td>2</td>\n",
              "    </tr>\n",
              "    <tr>\n",
              "      <th>2</th>\n",
              "      <td>48</td>\n",
              "      <td>1</td>\n",
              "      <td>0</td>\n",
              "      <td>1</td>\n",
              "      <td>1</td>\n",
              "      <td>1</td>\n",
              "      <td>39</td>\n",
              "      <td>8</td>\n",
              "      <td>65</td>\n",
              "      <td>4</td>\n",
              "      <td>...</td>\n",
              "      <td>962</td>\n",
              "      <td>901</td>\n",
              "      <td>984</td>\n",
              "      <td>6</td>\n",
              "      <td>1</td>\n",
              "      <td>7</td>\n",
              "      <td>1</td>\n",
              "      <td>1</td>\n",
              "      <td>0</td>\n",
              "      <td>2</td>\n",
              "    </tr>\n",
              "    <tr>\n",
              "      <th>3</th>\n",
              "      <td>88</td>\n",
              "      <td>1</td>\n",
              "      <td>20</td>\n",
              "      <td>0</td>\n",
              "      <td>5</td>\n",
              "      <td>0</td>\n",
              "      <td>8</td>\n",
              "      <td>7</td>\n",
              "      <td>51</td>\n",
              "      <td>5</td>\n",
              "      <td>...</td>\n",
              "      <td>935</td>\n",
              "      <td>954</td>\n",
              "      <td>1055</td>\n",
              "      <td>11</td>\n",
              "      <td>8</td>\n",
              "      <td>9</td>\n",
              "      <td>1</td>\n",
              "      <td>0</td>\n",
              "      <td>0</td>\n",
              "      <td>2</td>\n",
              "    </tr>\n",
              "    <tr>\n",
              "      <th>4</th>\n",
              "      <td>954</td>\n",
              "      <td>1</td>\n",
              "      <td>7</td>\n",
              "      <td>0</td>\n",
              "      <td>13</td>\n",
              "      <td>1</td>\n",
              "      <td>42</td>\n",
              "      <td>5</td>\n",
              "      <td>61</td>\n",
              "      <td>1</td>\n",
              "      <td>...</td>\n",
              "      <td>928</td>\n",
              "      <td>517</td>\n",
              "      <td>499</td>\n",
              "      <td>3</td>\n",
              "      <td>1</td>\n",
              "      <td>13</td>\n",
              "      <td>1</td>\n",
              "      <td>1</td>\n",
              "      <td>0</td>\n",
              "      <td>1</td>\n",
              "    </tr>\n",
              "    <tr>\n",
              "      <th>...</th>\n",
              "      <td>...</td>\n",
              "      <td>...</td>\n",
              "      <td>...</td>\n",
              "      <td>...</td>\n",
              "      <td>...</td>\n",
              "      <td>...</td>\n",
              "      <td>...</td>\n",
              "      <td>...</td>\n",
              "      <td>...</td>\n",
              "      <td>...</td>\n",
              "      <td>...</td>\n",
              "      <td>...</td>\n",
              "      <td>...</td>\n",
              "      <td>...</td>\n",
              "      <td>...</td>\n",
              "      <td>...</td>\n",
              "      <td>...</td>\n",
              "      <td>...</td>\n",
              "      <td>...</td>\n",
              "      <td>...</td>\n",
              "      <td>...</td>\n",
              "    </tr>\n",
              "    <tr>\n",
              "      <th>1995</th>\n",
              "      <td>216</td>\n",
              "      <td>1</td>\n",
              "      <td>0</td>\n",
              "      <td>1</td>\n",
              "      <td>5</td>\n",
              "      <td>1</td>\n",
              "      <td>0</td>\n",
              "      <td>7</td>\n",
              "      <td>26</td>\n",
              "      <td>5</td>\n",
              "      <td>...</td>\n",
              "      <td>939</td>\n",
              "      <td>1022</td>\n",
              "      <td>180</td>\n",
              "      <td>8</td>\n",
              "      <td>3</td>\n",
              "      <td>17</td>\n",
              "      <td>1</td>\n",
              "      <td>1</td>\n",
              "      <td>0</td>\n",
              "      <td>0</td>\n",
              "    </tr>\n",
              "    <tr>\n",
              "      <th>1996</th>\n",
              "      <td>1064</td>\n",
              "      <td>1</td>\n",
              "      <td>21</td>\n",
              "      <td>1</td>\n",
              "      <td>5</td>\n",
              "      <td>0</td>\n",
              "      <td>37</td>\n",
              "      <td>1</td>\n",
              "      <td>107</td>\n",
              "      <td>3</td>\n",
              "      <td>...</td>\n",
              "      <td>745</td>\n",
              "      <td>1080</td>\n",
              "      <td>732</td>\n",
              "      <td>6</td>\n",
              "      <td>10</td>\n",
              "      <td>14</td>\n",
              "      <td>1</td>\n",
              "      <td>1</td>\n",
              "      <td>1</td>\n",
              "      <td>2</td>\n",
              "    </tr>\n",
              "    <tr>\n",
              "      <th>1997</th>\n",
              "      <td>1027</td>\n",
              "      <td>0</td>\n",
              "      <td>4</td>\n",
              "      <td>1</td>\n",
              "      <td>0</td>\n",
              "      <td>1</td>\n",
              "      <td>34</td>\n",
              "      <td>6</td>\n",
              "      <td>28</td>\n",
              "      <td>7</td>\n",
              "      <td>...</td>\n",
              "      <td>716</td>\n",
              "      <td>834</td>\n",
              "      <td>1158</td>\n",
              "      <td>4</td>\n",
              "      <td>0</td>\n",
              "      <td>3</td>\n",
              "      <td>1</td>\n",
              "      <td>1</td>\n",
              "      <td>0</td>\n",
              "      <td>3</td>\n",
              "    </tr>\n",
              "    <tr>\n",
              "      <th>1998</th>\n",
              "      <td>732</td>\n",
              "      <td>0</td>\n",
              "      <td>4</td>\n",
              "      <td>0</td>\n",
              "      <td>3</td>\n",
              "      <td>1</td>\n",
              "      <td>44</td>\n",
              "      <td>0</td>\n",
              "      <td>65</td>\n",
              "      <td>4</td>\n",
              "      <td>...</td>\n",
              "      <td>282</td>\n",
              "      <td>120</td>\n",
              "      <td>266</td>\n",
              "      <td>13</td>\n",
              "      <td>10</td>\n",
              "      <td>17</td>\n",
              "      <td>1</td>\n",
              "      <td>1</td>\n",
              "      <td>1</td>\n",
              "      <td>0</td>\n",
              "    </tr>\n",
              "    <tr>\n",
              "      <th>1999</th>\n",
              "      <td>8</td>\n",
              "      <td>1</td>\n",
              "      <td>15</td>\n",
              "      <td>1</td>\n",
              "      <td>4</td>\n",
              "      <td>1</td>\n",
              "      <td>43</td>\n",
              "      <td>8</td>\n",
              "      <td>88</td>\n",
              "      <td>5</td>\n",
              "      <td>...</td>\n",
              "      <td>412</td>\n",
              "      <td>184</td>\n",
              "      <td>1526</td>\n",
              "      <td>14</td>\n",
              "      <td>3</td>\n",
              "      <td>0</td>\n",
              "      <td>1</td>\n",
              "      <td>1</td>\n",
              "      <td>1</td>\n",
              "      <td>3</td>\n",
              "    </tr>\n",
              "  </tbody>\n",
              "</table>\n",
              "<p>2000 rows × 21 columns</p>\n",
              "</div>\n",
              "      <button class=\"colab-df-convert\" onclick=\"convertToInteractive('df-c74c0d52-7bfc-4cba-979e-3591c46104d9')\"\n",
              "              title=\"Convert this dataframe to an interactive table.\"\n",
              "              style=\"display:none;\">\n",
              "        \n",
              "  <svg xmlns=\"http://www.w3.org/2000/svg\" height=\"24px\"viewBox=\"0 0 24 24\"\n",
              "       width=\"24px\">\n",
              "    <path d=\"M0 0h24v24H0V0z\" fill=\"none\"/>\n",
              "    <path d=\"M18.56 5.44l.94 2.06.94-2.06 2.06-.94-2.06-.94-.94-2.06-.94 2.06-2.06.94zm-11 1L8.5 8.5l.94-2.06 2.06-.94-2.06-.94L8.5 2.5l-.94 2.06-2.06.94zm10 10l.94 2.06.94-2.06 2.06-.94-2.06-.94-.94-2.06-.94 2.06-2.06.94z\"/><path d=\"M17.41 7.96l-1.37-1.37c-.4-.4-.92-.59-1.43-.59-.52 0-1.04.2-1.43.59L10.3 9.45l-7.72 7.72c-.78.78-.78 2.05 0 2.83L4 21.41c.39.39.9.59 1.41.59.51 0 1.02-.2 1.41-.59l7.78-7.78 2.81-2.81c.8-.78.8-2.07 0-2.86zM5.41 20L4 18.59l7.72-7.72 1.47 1.35L5.41 20z\"/>\n",
              "  </svg>\n",
              "      </button>\n",
              "      \n",
              "  <style>\n",
              "    .colab-df-container {\n",
              "      display:flex;\n",
              "      flex-wrap:wrap;\n",
              "      gap: 12px;\n",
              "    }\n",
              "\n",
              "    .colab-df-convert {\n",
              "      background-color: #E8F0FE;\n",
              "      border: none;\n",
              "      border-radius: 50%;\n",
              "      cursor: pointer;\n",
              "      display: none;\n",
              "      fill: #1967D2;\n",
              "      height: 32px;\n",
              "      padding: 0 0 0 0;\n",
              "      width: 32px;\n",
              "    }\n",
              "\n",
              "    .colab-df-convert:hover {\n",
              "      background-color: #E2EBFA;\n",
              "      box-shadow: 0px 1px 2px rgba(60, 64, 67, 0.3), 0px 1px 3px 1px rgba(60, 64, 67, 0.15);\n",
              "      fill: #174EA6;\n",
              "    }\n",
              "\n",
              "    [theme=dark] .colab-df-convert {\n",
              "      background-color: #3B4455;\n",
              "      fill: #D2E3FC;\n",
              "    }\n",
              "\n",
              "    [theme=dark] .colab-df-convert:hover {\n",
              "      background-color: #434B5C;\n",
              "      box-shadow: 0px 1px 3px 1px rgba(0, 0, 0, 0.15);\n",
              "      filter: drop-shadow(0px 1px 2px rgba(0, 0, 0, 0.3));\n",
              "      fill: #FFFFFF;\n",
              "    }\n",
              "  </style>\n",
              "\n",
              "      <script>\n",
              "        const buttonEl =\n",
              "          document.querySelector('#df-c74c0d52-7bfc-4cba-979e-3591c46104d9 button.colab-df-convert');\n",
              "        buttonEl.style.display =\n",
              "          google.colab.kernel.accessAllowed ? 'block' : 'none';\n",
              "\n",
              "        async function convertToInteractive(key) {\n",
              "          const element = document.querySelector('#df-c74c0d52-7bfc-4cba-979e-3591c46104d9');\n",
              "          const dataTable =\n",
              "            await google.colab.kernel.invokeFunction('convertToInteractive',\n",
              "                                                     [key], {});\n",
              "          if (!dataTable) return;\n",
              "\n",
              "          const docLinkHtml = 'Like what you see? Visit the ' +\n",
              "            '<a target=\"_blank\" href=https://colab.research.google.com/notebooks/data_table.ipynb>data table notebook</a>'\n",
              "            + ' to learn more about interactive tables.';\n",
              "          element.innerHTML = '';\n",
              "          dataTable['output_type'] = 'display_data';\n",
              "          await google.colab.output.renderOutput(dataTable, element);\n",
              "          const docLink = document.createElement('div');\n",
              "          docLink.innerHTML = docLinkHtml;\n",
              "          element.appendChild(docLink);\n",
              "        }\n",
              "      </script>\n",
              "    </div>\n",
              "  </div>\n",
              "  "
            ]
          },
          "metadata": {},
          "execution_count": 510
        }
      ]
    },
    {
      "cell_type": "code",
      "execution_count": 511,
      "id": "b665adf1",
      "metadata": {
        "colab": {
          "base_uri": "https://localhost:8080/",
          "height": 488
        },
        "id": "b665adf1",
        "outputId": "ef4da40b-92cb-47f7-aea4-5390dab3ceb6"
      },
      "outputs": [
        {
          "output_type": "execute_result",
          "data": {
            "text/plain": [
              "      battery_power  blue  clock_speed  dual_sim       fc  four_g  int_memory  \\\n",
              "0               842     0          2.2         0   1.0000       0           7   \n",
              "1              1021     1          0.5         1   5.6481       1          53   \n",
              "2               563     1          0.5         1   2.0000       1          41   \n",
              "3               615     1          2.5         0   5.6481       0          10   \n",
              "4              1821     1          1.2         0  13.0000       1          44   \n",
              "...             ...   ...          ...       ...      ...     ...         ...   \n",
              "1995            794     1          0.5         1   5.6481       1           2   \n",
              "1996           1965     1          2.6         1   5.6481       0          39   \n",
              "1997           1911     0          0.9         1   1.0000       1          36   \n",
              "1998           1512     0          0.9         0   4.0000       1          46   \n",
              "1999            510     1          2.0         1   5.0000       1          45   \n",
              "\n",
              "      m_dep  mobile_wt  n_cores  ...  px_height  px_width   ram  sc_h  sc_w  \\\n",
              "0       0.6        188        2  ...       20.0       756  2549     9   7.0   \n",
              "1       0.7        136        3  ...      905.0      1988  2631    17   3.0   \n",
              "2       0.9        145        5  ...     1263.0      1716  2603    11   2.0   \n",
              "3       0.8        131        6  ...     1216.0      1786  2769    16   8.0   \n",
              "4       0.6        141        2  ...     1208.0      1212  1411     8   2.0   \n",
              "...     ...        ...      ...  ...        ...       ...   ...   ...   ...   \n",
              "1995    0.8        106        6  ...     1222.0      1890   668    13   4.0   \n",
              "1996    0.2        187        4  ...      915.0      1965  2032    11  10.0   \n",
              "1997    0.7        108        8  ...      868.0      1632  3057     9   1.0   \n",
              "1998    0.1        145        5  ...      336.0       670   869    18  10.0   \n",
              "1999    0.9        168        6  ...      483.0       754  3919    19   4.0   \n",
              "\n",
              "      talk_time  three_g  touch_screen  wifi  price_range  \n",
              "0            19        0             0     1            1  \n",
              "1             7        1             1     0            2  \n",
              "2             9        1             1     0            2  \n",
              "3            11        1             0     0            2  \n",
              "4            15        1             1     0            1  \n",
              "...         ...      ...           ...   ...          ...  \n",
              "1995         19        1             1     0            0  \n",
              "1996         16        1             1     1            2  \n",
              "1997          5        1             1     0            3  \n",
              "1998         19        1             1     1            0  \n",
              "1999          2        1             1     1            3  \n",
              "\n",
              "[2000 rows x 21 columns]"
            ],
            "text/html": [
              "\n",
              "  <div id=\"df-c2b12409-6eed-4ad4-8e9c-3da677550476\">\n",
              "    <div class=\"colab-df-container\">\n",
              "      <div>\n",
              "<style scoped>\n",
              "    .dataframe tbody tr th:only-of-type {\n",
              "        vertical-align: middle;\n",
              "    }\n",
              "\n",
              "    .dataframe tbody tr th {\n",
              "        vertical-align: top;\n",
              "    }\n",
              "\n",
              "    .dataframe thead th {\n",
              "        text-align: right;\n",
              "    }\n",
              "</style>\n",
              "<table border=\"1\" class=\"dataframe\">\n",
              "  <thead>\n",
              "    <tr style=\"text-align: right;\">\n",
              "      <th></th>\n",
              "      <th>battery_power</th>\n",
              "      <th>blue</th>\n",
              "      <th>clock_speed</th>\n",
              "      <th>dual_sim</th>\n",
              "      <th>fc</th>\n",
              "      <th>four_g</th>\n",
              "      <th>int_memory</th>\n",
              "      <th>m_dep</th>\n",
              "      <th>mobile_wt</th>\n",
              "      <th>n_cores</th>\n",
              "      <th>...</th>\n",
              "      <th>px_height</th>\n",
              "      <th>px_width</th>\n",
              "      <th>ram</th>\n",
              "      <th>sc_h</th>\n",
              "      <th>sc_w</th>\n",
              "      <th>talk_time</th>\n",
              "      <th>three_g</th>\n",
              "      <th>touch_screen</th>\n",
              "      <th>wifi</th>\n",
              "      <th>price_range</th>\n",
              "    </tr>\n",
              "  </thead>\n",
              "  <tbody>\n",
              "    <tr>\n",
              "      <th>0</th>\n",
              "      <td>842</td>\n",
              "      <td>0</td>\n",
              "      <td>2.2</td>\n",
              "      <td>0</td>\n",
              "      <td>1.0000</td>\n",
              "      <td>0</td>\n",
              "      <td>7</td>\n",
              "      <td>0.6</td>\n",
              "      <td>188</td>\n",
              "      <td>2</td>\n",
              "      <td>...</td>\n",
              "      <td>20.0</td>\n",
              "      <td>756</td>\n",
              "      <td>2549</td>\n",
              "      <td>9</td>\n",
              "      <td>7.0</td>\n",
              "      <td>19</td>\n",
              "      <td>0</td>\n",
              "      <td>0</td>\n",
              "      <td>1</td>\n",
              "      <td>1</td>\n",
              "    </tr>\n",
              "    <tr>\n",
              "      <th>1</th>\n",
              "      <td>1021</td>\n",
              "      <td>1</td>\n",
              "      <td>0.5</td>\n",
              "      <td>1</td>\n",
              "      <td>5.6481</td>\n",
              "      <td>1</td>\n",
              "      <td>53</td>\n",
              "      <td>0.7</td>\n",
              "      <td>136</td>\n",
              "      <td>3</td>\n",
              "      <td>...</td>\n",
              "      <td>905.0</td>\n",
              "      <td>1988</td>\n",
              "      <td>2631</td>\n",
              "      <td>17</td>\n",
              "      <td>3.0</td>\n",
              "      <td>7</td>\n",
              "      <td>1</td>\n",
              "      <td>1</td>\n",
              "      <td>0</td>\n",
              "      <td>2</td>\n",
              "    </tr>\n",
              "    <tr>\n",
              "      <th>2</th>\n",
              "      <td>563</td>\n",
              "      <td>1</td>\n",
              "      <td>0.5</td>\n",
              "      <td>1</td>\n",
              "      <td>2.0000</td>\n",
              "      <td>1</td>\n",
              "      <td>41</td>\n",
              "      <td>0.9</td>\n",
              "      <td>145</td>\n",
              "      <td>5</td>\n",
              "      <td>...</td>\n",
              "      <td>1263.0</td>\n",
              "      <td>1716</td>\n",
              "      <td>2603</td>\n",
              "      <td>11</td>\n",
              "      <td>2.0</td>\n",
              "      <td>9</td>\n",
              "      <td>1</td>\n",
              "      <td>1</td>\n",
              "      <td>0</td>\n",
              "      <td>2</td>\n",
              "    </tr>\n",
              "    <tr>\n",
              "      <th>3</th>\n",
              "      <td>615</td>\n",
              "      <td>1</td>\n",
              "      <td>2.5</td>\n",
              "      <td>0</td>\n",
              "      <td>5.6481</td>\n",
              "      <td>0</td>\n",
              "      <td>10</td>\n",
              "      <td>0.8</td>\n",
              "      <td>131</td>\n",
              "      <td>6</td>\n",
              "      <td>...</td>\n",
              "      <td>1216.0</td>\n",
              "      <td>1786</td>\n",
              "      <td>2769</td>\n",
              "      <td>16</td>\n",
              "      <td>8.0</td>\n",
              "      <td>11</td>\n",
              "      <td>1</td>\n",
              "      <td>0</td>\n",
              "      <td>0</td>\n",
              "      <td>2</td>\n",
              "    </tr>\n",
              "    <tr>\n",
              "      <th>4</th>\n",
              "      <td>1821</td>\n",
              "      <td>1</td>\n",
              "      <td>1.2</td>\n",
              "      <td>0</td>\n",
              "      <td>13.0000</td>\n",
              "      <td>1</td>\n",
              "      <td>44</td>\n",
              "      <td>0.6</td>\n",
              "      <td>141</td>\n",
              "      <td>2</td>\n",
              "      <td>...</td>\n",
              "      <td>1208.0</td>\n",
              "      <td>1212</td>\n",
              "      <td>1411</td>\n",
              "      <td>8</td>\n",
              "      <td>2.0</td>\n",
              "      <td>15</td>\n",
              "      <td>1</td>\n",
              "      <td>1</td>\n",
              "      <td>0</td>\n",
              "      <td>1</td>\n",
              "    </tr>\n",
              "    <tr>\n",
              "      <th>...</th>\n",
              "      <td>...</td>\n",
              "      <td>...</td>\n",
              "      <td>...</td>\n",
              "      <td>...</td>\n",
              "      <td>...</td>\n",
              "      <td>...</td>\n",
              "      <td>...</td>\n",
              "      <td>...</td>\n",
              "      <td>...</td>\n",
              "      <td>...</td>\n",
              "      <td>...</td>\n",
              "      <td>...</td>\n",
              "      <td>...</td>\n",
              "      <td>...</td>\n",
              "      <td>...</td>\n",
              "      <td>...</td>\n",
              "      <td>...</td>\n",
              "      <td>...</td>\n",
              "      <td>...</td>\n",
              "      <td>...</td>\n",
              "      <td>...</td>\n",
              "    </tr>\n",
              "    <tr>\n",
              "      <th>1995</th>\n",
              "      <td>794</td>\n",
              "      <td>1</td>\n",
              "      <td>0.5</td>\n",
              "      <td>1</td>\n",
              "      <td>5.6481</td>\n",
              "      <td>1</td>\n",
              "      <td>2</td>\n",
              "      <td>0.8</td>\n",
              "      <td>106</td>\n",
              "      <td>6</td>\n",
              "      <td>...</td>\n",
              "      <td>1222.0</td>\n",
              "      <td>1890</td>\n",
              "      <td>668</td>\n",
              "      <td>13</td>\n",
              "      <td>4.0</td>\n",
              "      <td>19</td>\n",
              "      <td>1</td>\n",
              "      <td>1</td>\n",
              "      <td>0</td>\n",
              "      <td>0</td>\n",
              "    </tr>\n",
              "    <tr>\n",
              "      <th>1996</th>\n",
              "      <td>1965</td>\n",
              "      <td>1</td>\n",
              "      <td>2.6</td>\n",
              "      <td>1</td>\n",
              "      <td>5.6481</td>\n",
              "      <td>0</td>\n",
              "      <td>39</td>\n",
              "      <td>0.2</td>\n",
              "      <td>187</td>\n",
              "      <td>4</td>\n",
              "      <td>...</td>\n",
              "      <td>915.0</td>\n",
              "      <td>1965</td>\n",
              "      <td>2032</td>\n",
              "      <td>11</td>\n",
              "      <td>10.0</td>\n",
              "      <td>16</td>\n",
              "      <td>1</td>\n",
              "      <td>1</td>\n",
              "      <td>1</td>\n",
              "      <td>2</td>\n",
              "    </tr>\n",
              "    <tr>\n",
              "      <th>1997</th>\n",
              "      <td>1911</td>\n",
              "      <td>0</td>\n",
              "      <td>0.9</td>\n",
              "      <td>1</td>\n",
              "      <td>1.0000</td>\n",
              "      <td>1</td>\n",
              "      <td>36</td>\n",
              "      <td>0.7</td>\n",
              "      <td>108</td>\n",
              "      <td>8</td>\n",
              "      <td>...</td>\n",
              "      <td>868.0</td>\n",
              "      <td>1632</td>\n",
              "      <td>3057</td>\n",
              "      <td>9</td>\n",
              "      <td>1.0</td>\n",
              "      <td>5</td>\n",
              "      <td>1</td>\n",
              "      <td>1</td>\n",
              "      <td>0</td>\n",
              "      <td>3</td>\n",
              "    </tr>\n",
              "    <tr>\n",
              "      <th>1998</th>\n",
              "      <td>1512</td>\n",
              "      <td>0</td>\n",
              "      <td>0.9</td>\n",
              "      <td>0</td>\n",
              "      <td>4.0000</td>\n",
              "      <td>1</td>\n",
              "      <td>46</td>\n",
              "      <td>0.1</td>\n",
              "      <td>145</td>\n",
              "      <td>5</td>\n",
              "      <td>...</td>\n",
              "      <td>336.0</td>\n",
              "      <td>670</td>\n",
              "      <td>869</td>\n",
              "      <td>18</td>\n",
              "      <td>10.0</td>\n",
              "      <td>19</td>\n",
              "      <td>1</td>\n",
              "      <td>1</td>\n",
              "      <td>1</td>\n",
              "      <td>0</td>\n",
              "    </tr>\n",
              "    <tr>\n",
              "      <th>1999</th>\n",
              "      <td>510</td>\n",
              "      <td>1</td>\n",
              "      <td>2.0</td>\n",
              "      <td>1</td>\n",
              "      <td>5.0000</td>\n",
              "      <td>1</td>\n",
              "      <td>45</td>\n",
              "      <td>0.9</td>\n",
              "      <td>168</td>\n",
              "      <td>6</td>\n",
              "      <td>...</td>\n",
              "      <td>483.0</td>\n",
              "      <td>754</td>\n",
              "      <td>3919</td>\n",
              "      <td>19</td>\n",
              "      <td>4.0</td>\n",
              "      <td>2</td>\n",
              "      <td>1</td>\n",
              "      <td>1</td>\n",
              "      <td>1</td>\n",
              "      <td>3</td>\n",
              "    </tr>\n",
              "  </tbody>\n",
              "</table>\n",
              "<p>2000 rows × 21 columns</p>\n",
              "</div>\n",
              "      <button class=\"colab-df-convert\" onclick=\"convertToInteractive('df-c2b12409-6eed-4ad4-8e9c-3da677550476')\"\n",
              "              title=\"Convert this dataframe to an interactive table.\"\n",
              "              style=\"display:none;\">\n",
              "        \n",
              "  <svg xmlns=\"http://www.w3.org/2000/svg\" height=\"24px\"viewBox=\"0 0 24 24\"\n",
              "       width=\"24px\">\n",
              "    <path d=\"M0 0h24v24H0V0z\" fill=\"none\"/>\n",
              "    <path d=\"M18.56 5.44l.94 2.06.94-2.06 2.06-.94-2.06-.94-.94-2.06-.94 2.06-2.06.94zm-11 1L8.5 8.5l.94-2.06 2.06-.94-2.06-.94L8.5 2.5l-.94 2.06-2.06.94zm10 10l.94 2.06.94-2.06 2.06-.94-2.06-.94-.94-2.06-.94 2.06-2.06.94z\"/><path d=\"M17.41 7.96l-1.37-1.37c-.4-.4-.92-.59-1.43-.59-.52 0-1.04.2-1.43.59L10.3 9.45l-7.72 7.72c-.78.78-.78 2.05 0 2.83L4 21.41c.39.39.9.59 1.41.59.51 0 1.02-.2 1.41-.59l7.78-7.78 2.81-2.81c.8-.78.8-2.07 0-2.86zM5.41 20L4 18.59l7.72-7.72 1.47 1.35L5.41 20z\"/>\n",
              "  </svg>\n",
              "      </button>\n",
              "      \n",
              "  <style>\n",
              "    .colab-df-container {\n",
              "      display:flex;\n",
              "      flex-wrap:wrap;\n",
              "      gap: 12px;\n",
              "    }\n",
              "\n",
              "    .colab-df-convert {\n",
              "      background-color: #E8F0FE;\n",
              "      border: none;\n",
              "      border-radius: 50%;\n",
              "      cursor: pointer;\n",
              "      display: none;\n",
              "      fill: #1967D2;\n",
              "      height: 32px;\n",
              "      padding: 0 0 0 0;\n",
              "      width: 32px;\n",
              "    }\n",
              "\n",
              "    .colab-df-convert:hover {\n",
              "      background-color: #E2EBFA;\n",
              "      box-shadow: 0px 1px 2px rgba(60, 64, 67, 0.3), 0px 1px 3px 1px rgba(60, 64, 67, 0.15);\n",
              "      fill: #174EA6;\n",
              "    }\n",
              "\n",
              "    [theme=dark] .colab-df-convert {\n",
              "      background-color: #3B4455;\n",
              "      fill: #D2E3FC;\n",
              "    }\n",
              "\n",
              "    [theme=dark] .colab-df-convert:hover {\n",
              "      background-color: #434B5C;\n",
              "      box-shadow: 0px 1px 3px 1px rgba(0, 0, 0, 0.15);\n",
              "      filter: drop-shadow(0px 1px 2px rgba(0, 0, 0, 0.3));\n",
              "      fill: #FFFFFF;\n",
              "    }\n",
              "  </style>\n",
              "\n",
              "      <script>\n",
              "        const buttonEl =\n",
              "          document.querySelector('#df-c2b12409-6eed-4ad4-8e9c-3da677550476 button.colab-df-convert');\n",
              "        buttonEl.style.display =\n",
              "          google.colab.kernel.accessAllowed ? 'block' : 'none';\n",
              "\n",
              "        async function convertToInteractive(key) {\n",
              "          const element = document.querySelector('#df-c2b12409-6eed-4ad4-8e9c-3da677550476');\n",
              "          const dataTable =\n",
              "            await google.colab.kernel.invokeFunction('convertToInteractive',\n",
              "                                                     [key], {});\n",
              "          if (!dataTable) return;\n",
              "\n",
              "          const docLinkHtml = 'Like what you see? Visit the ' +\n",
              "            '<a target=\"_blank\" href=https://colab.research.google.com/notebooks/data_table.ipynb>data table notebook</a>'\n",
              "            + ' to learn more about interactive tables.';\n",
              "          element.innerHTML = '';\n",
              "          dataTable['output_type'] = 'display_data';\n",
              "          await google.colab.output.renderOutput(dataTable, element);\n",
              "          const docLink = document.createElement('div');\n",
              "          docLink.innerHTML = docLinkHtml;\n",
              "          element.appendChild(docLink);\n",
              "        }\n",
              "      </script>\n",
              "    </div>\n",
              "  </div>\n",
              "  "
            ]
          },
          "metadata": {},
          "execution_count": 511
        }
      ],
      "source": [
        "transformedData"
      ]
    },
    {
      "cell_type": "code",
      "execution_count": 512,
      "id": "55fabf3a",
      "metadata": {
        "id": "55fabf3a"
      },
      "outputs": [],
      "source": [
        "sum(dataSet.isnull().sum())\n",
        "df = pd.DataFrame(dataSet)\n",
        "\n",
        "\n",
        "X = transformedData.drop(['price_range'],axis=1)\n",
        "Y = transformedData['price_range']"
      ]
    },
    {
      "cell_type": "code",
      "execution_count": 513,
      "id": "8cafcaef",
      "metadata": {
        "id": "8cafcaef"
      },
      "outputs": [],
      "source": [
        "# Features which affect the price of a mobile\n",
        "mobile_feature_list = list(X.columns)"
      ]
    },
    {
      "cell_type": "code",
      "execution_count": 514,
      "id": "d2ac3552",
      "metadata": {
        "colab": {
          "base_uri": "https://localhost:8080/"
        },
        "id": "d2ac3552",
        "outputId": "fa36777e-f3b1-4be0-dcad-5370d286d81f"
      },
      "outputs": [
        {
          "output_type": "execute_result",
          "data": {
            "text/plain": [
              "['battery_power',\n",
              " 'blue',\n",
              " 'clock_speed',\n",
              " 'dual_sim',\n",
              " 'fc',\n",
              " 'four_g',\n",
              " 'int_memory',\n",
              " 'm_dep',\n",
              " 'mobile_wt',\n",
              " 'n_cores',\n",
              " 'pc',\n",
              " 'px_height',\n",
              " 'px_width',\n",
              " 'ram',\n",
              " 'sc_h',\n",
              " 'sc_w',\n",
              " 'talk_time',\n",
              " 'three_g',\n",
              " 'touch_screen',\n",
              " 'wifi']"
            ]
          },
          "metadata": {},
          "execution_count": 514
        }
      ],
      "source": [
        "mobile_feature_list"
      ]
    },
    {
      "cell_type": "code",
      "execution_count": 515,
      "id": "4603fff3",
      "metadata": {
        "id": "4603fff3"
      },
      "outputs": [],
      "source": [
        "# We alocate data into training data set and testing data set\n",
        "X_train,X_test,Y_train,Y_test = train_test_split(X,Y,test_size = 0.2,random_state=41)"
      ]
    },
    {
      "cell_type": "code",
      "source": [
        "Y"
      ],
      "metadata": {
        "colab": {
          "base_uri": "https://localhost:8080/"
        },
        "id": "8HM3iCBq6wzL",
        "outputId": "bfc6caa0-fcaa-4369-e152-ffb25aa539f6"
      },
      "id": "8HM3iCBq6wzL",
      "execution_count": 516,
      "outputs": [
        {
          "output_type": "execute_result",
          "data": {
            "text/plain": [
              "0       1\n",
              "1       2\n",
              "2       2\n",
              "3       2\n",
              "4       1\n",
              "       ..\n",
              "1995    0\n",
              "1996    2\n",
              "1997    3\n",
              "1998    0\n",
              "1999    3\n",
              "Name: price_range, Length: 2000, dtype: int64"
            ]
          },
          "metadata": {},
          "execution_count": 516
        }
      ]
    },
    {
      "cell_type": "code",
      "execution_count": 517,
      "id": "910633ae",
      "metadata": {
        "colab": {
          "base_uri": "https://localhost:8080/"
        },
        "id": "910633ae",
        "outputId": "ab8fe95f-50c5-4998-ef9f-2a5ab82b4cfc"
      },
      "outputs": [
        {
          "output_type": "execute_result",
          "data": {
            "text/plain": [
              "751     1\n",
              "1545    2\n",
              "881     2\n",
              "396     3\n",
              "509     2\n",
              "       ..\n",
              "1518    3\n",
              "1398    0\n",
              "1091    2\n",
              "1390    2\n",
              "783     0\n",
              "Name: price_range, Length: 400, dtype: int64"
            ]
          },
          "metadata": {},
          "execution_count": 517
        }
      ],
      "source": [
        "Y_test"
      ]
    },
    {
      "cell_type": "code",
      "execution_count": 518,
      "id": "dd662ab5",
      "metadata": {
        "colab": {
          "base_uri": "https://localhost:8080/"
        },
        "id": "dd662ab5",
        "outputId": "6b172367-1f31-45e5-ac77-8e3bb1757fc7"
      },
      "outputs": [
        {
          "output_type": "execute_result",
          "data": {
            "text/plain": [
              "(1600, 20)"
            ]
          },
          "metadata": {},
          "execution_count": 518
        }
      ],
      "source": [
        "X_train.shape"
      ]
    },
    {
      "cell_type": "code",
      "source": [
        "X_test.shape"
      ],
      "metadata": {
        "colab": {
          "base_uri": "https://localhost:8080/"
        },
        "id": "AaaVvhPo677M",
        "outputId": "99d51435-6e03-4b42-b8c5-1006f884d7c4"
      },
      "id": "AaaVvhPo677M",
      "execution_count": 519,
      "outputs": [
        {
          "output_type": "execute_result",
          "data": {
            "text/plain": [
              "(400, 20)"
            ]
          },
          "metadata": {},
          "execution_count": 519
        }
      ]
    },
    {
      "cell_type": "code",
      "execution_count": 520,
      "id": "e53b8bd3",
      "metadata": {
        "colab": {
          "base_uri": "https://localhost:8080/"
        },
        "id": "e53b8bd3",
        "outputId": "4710ceec-34f6-4b38-80a4-94d96826e0bb"
      },
      "outputs": [
        {
          "output_type": "stream",
          "name": "stdout",
          "text": [
            "[1 2 2 3 2 3 1 2 0 0 2 2 3 0 1 3 1 2 2 3 2 3 0 0 1 0 0 0 0 1 3 2 0 2 1 2 0\n",
            " 1 0 0 1 2 1 2 3 1 3 2 1 0 2 2 2 2 1 1 3 3 3 1 0 3 2 0 2 3 1 1 0 1 1 0 2 0\n",
            " 2 3 0 3 1 3 3 3 0 3 2 0 3 2 0 2 3 0 3 0 1 0 3 3 0 2 2 3 0 1 0 2 1 0 1 3 2\n",
            " 0 2 3 3 0 0 1 3 3 2 3 0 2 2 2 1 1 0 1 2 3 2 0 3 1 3 0 1 2 1 1 1 0 0 3 0 1\n",
            " 1 1 2 3 1 0 2 3 1 3 2 1 0 0 0 2 3 1 0 1 3 3 1 2 2 3 2 3 2 0 2 3 3 1 3 3 3\n",
            " 2 0 2 0 0 0 0 2 3 2 2 3 3 1 1 1 3 1 2 1 1 1 1 0 0 1 1 2 0 3 2 3 3 0 1 0 0\n",
            " 0 3 3 3 2 0 2 1 0 2 1 1 3 0 1 2 3 1 0 2 3 2 2 0 0 3 2 1 2 1 1 1 1 1 0 3 2\n",
            " 3 3 0 0 1 0 3 0 2 1 3 1 2 2 0 0 3 0 1 1 2 3 0 0 3 3 1 3 3 3 1 1 0 1 3 2 0\n",
            " 2 1 2 1 2 0 3 2 3 3 1 2 1 2 2 2 0 2 0 3 0 3 3 0 1 0 1 2 0 3 0 3 2 3 2 1 1\n",
            " 3 3 1 1 0 2 3 2 1 3 0 3 1 0 3 1 0 2 0 2 2 3 3 0 2 2 2 2 1 2 1 3 1 2 0 2 3\n",
            " 3 1 0 0 0 0 3 3 1 3 3 3 0 2 1 3 1 2 3 2 3 0 0 2 3 3 0 2 2 0]\n"
          ]
        }
      ],
      "source": [
        "knnModel = KNeighborsClassifier(n_neighbors=7)\n",
        "knnModel.fit(X_train, Y_train)\n",
        "  \n",
        "# Prediction of testing data set\n",
        "prediction_Y =knnModel.predict(X_test)\n",
        "print(prediction_Y)"
      ]
    },
    {
      "cell_type": "code",
      "execution_count": 521,
      "id": "16179f18",
      "metadata": {
        "colab": {
          "base_uri": "https://localhost:8080/"
        },
        "id": "16179f18",
        "outputId": "edb68386-df2d-45ab-8ffa-1f3c010bd2e2"
      },
      "outputs": [
        {
          "output_type": "stream",
          "name": "stdout",
          "text": [
            "Accuracy Score is  0.9425\n"
          ]
        }
      ],
      "source": [
        "accuracy = sm.accuracy_score(Y_test,prediction_Y)\n",
        "print('Accuracy Score is ',str(accuracy))"
      ]
    },
    {
      "cell_type": "code",
      "execution_count": 522,
      "id": "7c559de6",
      "metadata": {
        "colab": {
          "base_uri": "https://localhost:8080/"
        },
        "id": "7c559de6",
        "outputId": "8330eec2-07b3-4f43-f060-6f2def74fd96"
      },
      "outputs": [
        {
          "output_type": "stream",
          "name": "stdout",
          "text": [
            "Classification report :               precision    recall  f1-score   support\n",
            "\n",
            "           0       0.99      0.95      0.97       100\n",
            "           1       0.91      0.96      0.93        94\n",
            "           2       0.92      0.91      0.91       100\n",
            "           3       0.95      0.95      0.95       106\n",
            "\n",
            "    accuracy                           0.94       400\n",
            "   macro avg       0.94      0.94      0.94       400\n",
            "weighted avg       0.94      0.94      0.94       400\n",
            "\n"
          ]
        }
      ],
      "source": [
        "# Analysis\n",
        "print(\"Classification report :\" , metrics.classification_report(prediction_Y,Y_test))"
      ]
    },
    {
      "cell_type": "code",
      "execution_count": 523,
      "id": "985160d5",
      "metadata": {
        "id": "985160d5"
      },
      "outputs": [],
      "source": [
        "confusionMatrix = confusion_matrix(Y_test,prediction_Y)"
      ]
    },
    {
      "cell_type": "code",
      "execution_count": 524,
      "id": "3eaea48c",
      "metadata": {
        "colab": {
          "base_uri": "https://localhost:8080/",
          "height": 285
        },
        "id": "3eaea48c",
        "outputId": "c4818ae3-6fc7-4f9f-b3d2-9724e1bd9e25"
      },
      "outputs": [
        {
          "output_type": "execute_result",
          "data": {
            "text/plain": [
              "<matplotlib.axes._subplots.AxesSubplot at 0x7fa41560d700>"
            ]
          },
          "metadata": {},
          "execution_count": 524
        },
        {
          "output_type": "display_data",
          "data": {
            "text/plain": [
              "<Figure size 432x288 with 1 Axes>"
            ],
            "image/png": "[encoded data removed]"
          },
          "metadata": {}
        }
      ],
      "source": [
        "seaborn.set()\n",
        "seaborn.heatmap(confusionMatrix.T,square=True,annot=True,fmt='d',cbar=False, cmap= \"GnBu_r\")\n",
        "\n",
        "# Diagonal elements show the number of points which predicted label is equal to the true label"
      ]
    },
    {
      "cell_type": "code",
      "source": [],
      "metadata": {
        "id": "GyuSzLkpPDxI"
      },
      "id": "GyuSzLkpPDxI",
      "execution_count": 524,
      "outputs": []
    },
    {
      "cell_type": "code",
      "execution_count": 525,
      "id": "9c895942",
      "metadata": {
        "id": "9c895942"
      },
      "outputs": [],
      "source": [
        "##### Question 02 - Multilayer Model"
      ]
    },
    {
      "cell_type": "code",
      "execution_count": 526,
      "id": "0cf6f7e1",
      "metadata": {
        "id": "0cf6f7e1"
      },
      "outputs": [],
      "source": [
        "import pandas as pd\n",
        "from sklearn import preprocessing\n",
        "from sklearn.model_selection import train_test_split\n",
        "from sklearn.metrics import classification_report,confusion_matrix\n",
        "import numpy as np \n",
        "import matplotlib.pyplot as plt"
      ]
    },
    {
      "cell_type": "code",
      "execution_count": 527,
      "id": "a59cee90",
      "metadata": {
        "id": "a59cee90"
      },
      "outputs": [],
      "source": [
        "dataFrame = pd.read_csv('Mobile_Dataset.csv')"
      ]
    },
    {
      "cell_type": "code",
      "execution_count": 528,
      "id": "630b314e",
      "metadata": {
        "colab": {
          "base_uri": "https://localhost:8080/",
          "height": 488
        },
        "id": "630b314e",
        "outputId": "c31f16d9-6c19-4763-b8f7-e36b79796d75"
      },
      "outputs": [
        {
          "output_type": "execute_result",
          "data": {
            "text/plain": [
              "      battery_power  blue  clock_speed  dual_sim  fc  four_g  int_memory  \\\n",
              "0               842     0          2.2         0   1       0           7   \n",
              "1              1021     1          0.5         1   0       1          53   \n",
              "2               563     1          0.5         1   2       1          41   \n",
              "3               615     1          2.5         0   0       0          10   \n",
              "4              1821     1          1.2         0  13       1          44   \n",
              "...             ...   ...          ...       ...  ..     ...         ...   \n",
              "1995            794     1          0.5         1   0       1           2   \n",
              "1996           1965     1          2.6         1   0       0          39   \n",
              "1997           1911     0          0.9         1   1       1          36   \n",
              "1998           1512     0          0.9         0   4       1          46   \n",
              "1999            510     1          2.0         1   5       1          45   \n",
              "\n",
              "      m_dep  mobile_wt  n_cores  ...  px_height  px_width   ram  sc_h  sc_w  \\\n",
              "0       0.6        188        2  ...         20       756  2549     9     7   \n",
              "1       0.7        136        3  ...        905      1988  2631    17     3   \n",
              "2       0.9        145        5  ...       1263      1716  2603    11     2   \n",
              "3       0.8        131        6  ...       1216      1786  2769    16     8   \n",
              "4       0.6        141        2  ...       1208      1212  1411     8     2   \n",
              "...     ...        ...      ...  ...        ...       ...   ...   ...   ...   \n",
              "1995    0.8        106        6  ...       1222      1890   668    13     4   \n",
              "1996    0.2        187        4  ...        915      1965  2032    11    10   \n",
              "1997    0.7        108        8  ...        868      1632  3057     9     1   \n",
              "1998    0.1        145        5  ...        336       670   869    18    10   \n",
              "1999    0.9        168        6  ...        483       754  3919    19     4   \n",
              "\n",
              "      talk_time  three_g  touch_screen  wifi  price_range  \n",
              "0            19        0             0     1            1  \n",
              "1             7        1             1     0            2  \n",
              "2             9        1             1     0            2  \n",
              "3            11        1             0     0            2  \n",
              "4            15        1             1     0            1  \n",
              "...         ...      ...           ...   ...          ...  \n",
              "1995         19        1             1     0            0  \n",
              "1996         16        1             1     1            2  \n",
              "1997          5        1             1     0            3  \n",
              "1998         19        1             1     1            0  \n",
              "1999          2        1             1     1            3  \n",
              "\n",
              "[2000 rows x 21 columns]"
            ],
            "text/html": [
              "\n",
              "  <div id=\"df-655eae35-6daf-4639-9758-2a134de6d2ca\">\n",
              "    <div class=\"colab-df-container\">\n",
              "      <div>\n",
              "<style scoped>\n",
              "    .dataframe tbody tr th:only-of-type {\n",
              "        vertical-align: middle;\n",
              "    }\n",
              "\n",
              "    .dataframe tbody tr th {\n",
              "        vertical-align: top;\n",
              "    }\n",
              "\n",
              "    .dataframe thead th {\n",
              "        text-align: right;\n",
              "    }\n",
              "</style>\n",
              "<table border=\"1\" class=\"dataframe\">\n",
              "  <thead>\n",
              "    <tr style=\"text-align: right;\">\n",
              "      <th></th>\n",
              "      <th>battery_power</th>\n",
              "      <th>blue</th>\n",
              "      <th>clock_speed</th>\n",
              "      <th>dual_sim</th>\n",
              "      <th>fc</th>\n",
              "      <th>four_g</th>\n",
              "      <th>int_memory</th>\n",
              "      <th>m_dep</th>\n",
              "      <th>mobile_wt</th>\n",
              "      <th>n_cores</th>\n",
              "      <th>...</th>\n",
              "      <th>px_height</th>\n",
              "      <th>px_width</th>\n",
              "      <th>ram</th>\n",
              "      <th>sc_h</th>\n",
              "      <th>sc_w</th>\n",
              "      <th>talk_time</th>\n",
              "      <th>three_g</th>\n",
              "      <th>touch_screen</th>\n",
              "      <th>wifi</th>\n",
              "      <th>price_range</th>\n",
              "    </tr>\n",
              "  </thead>\n",
              "  <tbody>\n",
              "    <tr>\n",
              "      <th>0</th>\n",
              "      <td>842</td>\n",
              "      <td>0</td>\n",
              "      <td>2.2</td>\n",
              "      <td>0</td>\n",
              "      <td>1</td>\n",
              "      <td>0</td>\n",
              "      <td>7</td>\n",
              "      <td>0.6</td>\n",
              "      <td>188</td>\n",
              "      <td>2</td>\n",
              "      <td>...</td>\n",
              "      <td>20</td>\n",
              "      <td>756</td>\n",
              "      <td>2549</td>\n",
              "      <td>9</td>\n",
              "      <td>7</td>\n",
              "      <td>19</td>\n",
              "      <td>0</td>\n",
              "      <td>0</td>\n",
              "      <td>1</td>\n",
              "      <td>1</td>\n",
              "    </tr>\n",
              "    <tr>\n",
              "      <th>1</th>\n",
              "      <td>1021</td>\n",
              "      <td>1</td>\n",
              "      <td>0.5</td>\n",
              "      <td>1</td>\n",
              "      <td>0</td>\n",
              "      <td>1</td>\n",
              "      <td>53</td>\n",
              "      <td>0.7</td>\n",
              "      <td>136</td>\n",
              "      <td>3</td>\n",
              "      <td>...</td>\n",
              "      <td>905</td>\n",
              "      <td>1988</td>\n",
              "      <td>2631</td>\n",
              "      <td>17</td>\n",
              "      <td>3</td>\n",
              "      <td>7</td>\n",
              "      <td>1</td>\n",
              "      <td>1</td>\n",
              "      <td>0</td>\n",
              "      <td>2</td>\n",
              "    </tr>\n",
              "    <tr>\n",
              "      <th>2</th>\n",
              "      <td>563</td>\n",
              "      <td>1</td>\n",
              "      <td>0.5</td>\n",
              "      <td>1</td>\n",
              "      <td>2</td>\n",
              "      <td>1</td>\n",
              "      <td>41</td>\n",
              "      <td>0.9</td>\n",
              "      <td>145</td>\n",
              "      <td>5</td>\n",
              "      <td>...</td>\n",
              "      <td>1263</td>\n",
              "      <td>1716</td>\n",
              "      <td>2603</td>\n",
              "      <td>11</td>\n",
              "      <td>2</td>\n",
              "      <td>9</td>\n",
              "      <td>1</td>\n",
              "      <td>1</td>\n",
              "      <td>0</td>\n",
              "      <td>2</td>\n",
              "    </tr>\n",
              "    <tr>\n",
              "      <th>3</th>\n",
              "      <td>615</td>\n",
              "      <td>1</td>\n",
              "      <td>2.5</td>\n",
              "      <td>0</td>\n",
              "      <td>0</td>\n",
              "      <td>0</td>\n",
              "      <td>10</td>\n",
              "      <td>0.8</td>\n",
              "      <td>131</td>\n",
              "      <td>6</td>\n",
              "      <td>...</td>\n",
              "      <td>1216</td>\n",
              "      <td>1786</td>\n",
              "      <td>2769</td>\n",
              "      <td>16</td>\n",
              "      <td>8</td>\n",
              "      <td>11</td>\n",
              "      <td>1</td>\n",
              "      <td>0</td>\n",
              "      <td>0</td>\n",
              "      <td>2</td>\n",
              "    </tr>\n",
              "    <tr>\n",
              "      <th>4</th>\n",
              "      <td>1821</td>\n",
              "      <td>1</td>\n",
              "      <td>1.2</td>\n",
              "      <td>0</td>\n",
              "      <td>13</td>\n",
              "      <td>1</td>\n",
              "      <td>44</td>\n",
              "      <td>0.6</td>\n",
              "      <td>141</td>\n",
              "      <td>2</td>\n",
              "      <td>...</td>\n",
              "      <td>1208</td>\n",
              "      <td>1212</td>\n",
              "      <td>1411</td>\n",
              "      <td>8</td>\n",
              "      <td>2</td>\n",
              "      <td>15</td>\n",
              "      <td>1</td>\n",
              "      <td>1</td>\n",
              "      <td>0</td>\n",
              "      <td>1</td>\n",
              "    </tr>\n",
              "    <tr>\n",
              "      <th>...</th>\n",
              "      <td>...</td>\n",
              "      <td>...</td>\n",
              "      <td>...</td>\n",
              "      <td>...</td>\n",
              "      <td>...</td>\n",
              "      <td>...</td>\n",
              "      <td>...</td>\n",
              "      <td>...</td>\n",
              "      <td>...</td>\n",
              "      <td>...</td>\n",
              "      <td>...</td>\n",
              "      <td>...</td>\n",
              "      <td>...</td>\n",
              "      <td>...</td>\n",
              "      <td>...</td>\n",
              "      <td>...</td>\n",
              "      <td>...</td>\n",
              "      <td>...</td>\n",
              "      <td>...</td>\n",
              "      <td>...</td>\n",
              "      <td>...</td>\n",
              "    </tr>\n",
              "    <tr>\n",
              "      <th>1995</th>\n",
              "      <td>794</td>\n",
              "      <td>1</td>\n",
              "      <td>0.5</td>\n",
              "      <td>1</td>\n",
              "      <td>0</td>\n",
              "      <td>1</td>\n",
              "      <td>2</td>\n",
              "      <td>0.8</td>\n",
              "      <td>106</td>\n",
              "      <td>6</td>\n",
              "      <td>...</td>\n",
              "      <td>1222</td>\n",
              "      <td>1890</td>\n",
              "      <td>668</td>\n",
              "      <td>13</td>\n",
              "      <td>4</td>\n",
              "      <td>19</td>\n",
              "      <td>1</td>\n",
              "      <td>1</td>\n",
              "      <td>0</td>\n",
              "      <td>0</td>\n",
              "    </tr>\n",
              "    <tr>\n",
              "      <th>1996</th>\n",
              "      <td>1965</td>\n",
              "      <td>1</td>\n",
              "      <td>2.6</td>\n",
              "      <td>1</td>\n",
              "      <td>0</td>\n",
              "      <td>0</td>\n",
              "      <td>39</td>\n",
              "      <td>0.2</td>\n",
              "      <td>187</td>\n",
              "      <td>4</td>\n",
              "      <td>...</td>\n",
              "      <td>915</td>\n",
              "      <td>1965</td>\n",
              "      <td>2032</td>\n",
              "      <td>11</td>\n",
              "      <td>10</td>\n",
              "      <td>16</td>\n",
              "      <td>1</td>\n",
              "      <td>1</td>\n",
              "      <td>1</td>\n",
              "      <td>2</td>\n",
              "    </tr>\n",
              "    <tr>\n",
              "      <th>1997</th>\n",
              "      <td>1911</td>\n",
              "      <td>0</td>\n",
              "      <td>0.9</td>\n",
              "      <td>1</td>\n",
              "      <td>1</td>\n",
              "      <td>1</td>\n",
              "      <td>36</td>\n",
              "      <td>0.7</td>\n",
              "      <td>108</td>\n",
              "      <td>8</td>\n",
              "      <td>...</td>\n",
              "      <td>868</td>\n",
              "      <td>1632</td>\n",
              "      <td>3057</td>\n",
              "      <td>9</td>\n",
              "      <td>1</td>\n",
              "      <td>5</td>\n",
              "      <td>1</td>\n",
              "      <td>1</td>\n",
              "      <td>0</td>\n",
              "      <td>3</td>\n",
              "    </tr>\n",
              "    <tr>\n",
              "      <th>1998</th>\n",
              "      <td>1512</td>\n",
              "      <td>0</td>\n",
              "      <td>0.9</td>\n",
              "      <td>0</td>\n",
              "      <td>4</td>\n",
              "      <td>1</td>\n",
              "      <td>46</td>\n",
              "      <td>0.1</td>\n",
              "      <td>145</td>\n",
              "      <td>5</td>\n",
              "      <td>...</td>\n",
              "      <td>336</td>\n",
              "      <td>670</td>\n",
              "      <td>869</td>\n",
              "      <td>18</td>\n",
              "      <td>10</td>\n",
              "      <td>19</td>\n",
              "      <td>1</td>\n",
              "      <td>1</td>\n",
              "      <td>1</td>\n",
              "      <td>0</td>\n",
              "    </tr>\n",
              "    <tr>\n",
              "      <th>1999</th>\n",
              "      <td>510</td>\n",
              "      <td>1</td>\n",
              "      <td>2.0</td>\n",
              "      <td>1</td>\n",
              "      <td>5</td>\n",
              "      <td>1</td>\n",
              "      <td>45</td>\n",
              "      <td>0.9</td>\n",
              "      <td>168</td>\n",
              "      <td>6</td>\n",
              "      <td>...</td>\n",
              "      <td>483</td>\n",
              "      <td>754</td>\n",
              "      <td>3919</td>\n",
              "      <td>19</td>\n",
              "      <td>4</td>\n",
              "      <td>2</td>\n",
              "      <td>1</td>\n",
              "      <td>1</td>\n",
              "      <td>1</td>\n",
              "      <td>3</td>\n",
              "    </tr>\n",
              "  </tbody>\n",
              "</table>\n",
              "<p>2000 rows × 21 columns</p>\n",
              "</div>\n",
              "      <button class=\"colab-df-convert\" onclick=\"convertToInteractive('df-655eae35-6daf-4639-9758-2a134de6d2ca')\"\n",
              "              title=\"Convert this dataframe to an interactive table.\"\n",
              "              style=\"display:none;\">\n",
              "        \n",
              "  <svg xmlns=\"http://www.w3.org/2000/svg\" height=\"24px\"viewBox=\"0 0 24 24\"\n",
              "       width=\"24px\">\n",
              "    <path d=\"M0 0h24v24H0V0z\" fill=\"none\"/>\n",
              "    <path d=\"M18.56 5.44l.94 2.06.94-2.06 2.06-.94-2.06-.94-.94-2.06-.94 2.06-2.06.94zm-11 1L8.5 8.5l.94-2.06 2.06-.94-2.06-.94L8.5 2.5l-.94 2.06-2.06.94zm10 10l.94 2.06.94-2.06 2.06-.94-2.06-.94-.94-2.06-.94 2.06-2.06.94z\"/><path d=\"M17.41 7.96l-1.37-1.37c-.4-.4-.92-.59-1.43-.59-.52 0-1.04.2-1.43.59L10.3 9.45l-7.72 7.72c-.78.78-.78 2.05 0 2.83L4 21.41c.39.39.9.59 1.41.59.51 0 1.02-.2 1.41-.59l7.78-7.78 2.81-2.81c.8-.78.8-2.07 0-2.86zM5.41 20L4 18.59l7.72-7.72 1.47 1.35L5.41 20z\"/>\n",
              "  </svg>\n",
              "      </button>\n",
              "      \n",
              "  <style>\n",
              "    .colab-df-container {\n",
              "      display:flex;\n",
              "      flex-wrap:wrap;\n",
              "      gap: 12px;\n",
              "    }\n",
              "\n",
              "    .colab-df-convert {\n",
              "      background-color: #E8F0FE;\n",
              "      border: none;\n",
              "      border-radius: 50%;\n",
              "      cursor: pointer;\n",
              "      display: none;\n",
              "      fill: #1967D2;\n",
              "      height: 32px;\n",
              "      padding: 0 0 0 0;\n",
              "      width: 32px;\n",
              "    }\n",
              "\n",
              "    .colab-df-convert:hover {\n",
              "      background-color: #E2EBFA;\n",
              "      box-shadow: 0px 1px 2px rgba(60, 64, 67, 0.3), 0px 1px 3px 1px rgba(60, 64, 67, 0.15);\n",
              "      fill: #174EA6;\n",
              "    }\n",
              "\n",
              "    [theme=dark] .colab-df-convert {\n",
              "      background-color: #3B4455;\n",
              "      fill: #D2E3FC;\n",
              "    }\n",
              "\n",
              "    [theme=dark] .colab-df-convert:hover {\n",
              "      background-color: #434B5C;\n",
              "      box-shadow: 0px 1px 3px 1px rgba(0, 0, 0, 0.15);\n",
              "      filter: drop-shadow(0px 1px 2px rgba(0, 0, 0, 0.3));\n",
              "      fill: #FFFFFF;\n",
              "    }\n",
              "  </style>\n",
              "\n",
              "      <script>\n",
              "        const buttonEl =\n",
              "          document.querySelector('#df-655eae35-6daf-4639-9758-2a134de6d2ca button.colab-df-convert');\n",
              "        buttonEl.style.display =\n",
              "          google.colab.kernel.accessAllowed ? 'block' : 'none';\n",
              "\n",
              "        async function convertToInteractive(key) {\n",
              "          const element = document.querySelector('#df-655eae35-6daf-4639-9758-2a134de6d2ca');\n",
              "          const dataTable =\n",
              "            await google.colab.kernel.invokeFunction('convertToInteractive',\n",
              "                                                     [key], {});\n",
              "          if (!dataTable) return;\n",
              "\n",
              "          const docLinkHtml = 'Like what you see? Visit the ' +\n",
              "            '<a target=\"_blank\" href=https://colab.research.google.com/notebooks/data_table.ipynb>data table notebook</a>'\n",
              "            + ' to learn more about interactive tables.';\n",
              "          element.innerHTML = '';\n",
              "          dataTable['output_type'] = 'display_data';\n",
              "          await google.colab.output.renderOutput(dataTable, element);\n",
              "          const docLink = document.createElement('div');\n",
              "          docLink.innerHTML = docLinkHtml;\n",
              "          element.appendChild(docLink);\n",
              "        }\n",
              "      </script>\n",
              "    </div>\n",
              "  </div>\n",
              "  "
            ]
          },
          "metadata": {},
          "execution_count": 528
        }
      ],
      "source": [
        "dataFrame"
      ]
    },
    {
      "cell_type": "code",
      "execution_count": 529,
      "id": "b4dcf42d",
      "metadata": {
        "scrolled": true,
        "id": "b4dcf42d"
      },
      "outputs": [],
      "source": [
        "values = dataFrame.values"
      ]
    },
    {
      "cell_type": "code",
      "execution_count": 530,
      "id": "8e62cc21",
      "metadata": {
        "colab": {
          "base_uri": "https://localhost:8080/"
        },
        "id": "8e62cc21",
        "outputId": "737acac3-9577-45d0-bcfc-f3df0c289670"
      },
      "outputs": [
        {
          "output_type": "execute_result",
          "data": {
            "text/plain": [
              "array([[8.420e+02, 0.000e+00, 2.200e+00, ..., 0.000e+00, 1.000e+00,\n",
              "        1.000e+00],\n",
              "       [1.021e+03, 1.000e+00, 5.000e-01, ..., 1.000e+00, 0.000e+00,\n",
              "        2.000e+00],\n",
              "       [5.630e+02, 1.000e+00, 5.000e-01, ..., 1.000e+00, 0.000e+00,\n",
              "        2.000e+00],\n",
              "       ...,\n",
              "       [1.911e+03, 0.000e+00, 9.000e-01, ..., 1.000e+00, 0.000e+00,\n",
              "        3.000e+00],\n",
              "       [1.512e+03, 0.000e+00, 9.000e-01, ..., 1.000e+00, 1.000e+00,\n",
              "        0.000e+00],\n",
              "       [5.100e+02, 1.000e+00, 2.000e+00, ..., 1.000e+00, 1.000e+00,\n",
              "        3.000e+00]])"
            ]
          },
          "metadata": {},
          "execution_count": 530
        }
      ],
      "source": [
        "values"
      ]
    },
    {
      "cell_type": "code",
      "execution_count": 531,
      "id": "5495e301",
      "metadata": {
        "id": "5495e301"
      },
      "outputs": [],
      "source": [
        "x = values[:,0:20]"
      ]
    },
    {
      "cell_type": "code",
      "execution_count": 532,
      "id": "68fbd69f",
      "metadata": {
        "id": "68fbd69f"
      },
      "outputs": [],
      "source": [
        "y = values[:,20]"
      ]
    },
    {
      "cell_type": "code",
      "execution_count": 533,
      "id": "f90dbde1",
      "metadata": {
        "id": "f90dbde1"
      },
      "outputs": [],
      "source": [
        "minMax_scaler = preprocessing.MinMaxScaler()\n",
        "x_scale = minMax_scaler.fit_transform(x)"
      ]
    },
    {
      "cell_type": "code",
      "execution_count": 534,
      "id": "6adc5719",
      "metadata": {
        "colab": {
          "base_uri": "https://localhost:8080/"
        },
        "id": "6adc5719",
        "outputId": "2b61bebe-b187-4f7f-fc8e-383221bdb2f5"
      },
      "outputs": [
        {
          "output_type": "execute_result",
          "data": {
            "text/plain": [
              "array([[0.22778891, 0.        , 0.68      , ..., 0.        , 0.        ,\n",
              "        1.        ],\n",
              "       [0.34736139, 1.        , 0.        , ..., 1.        , 1.        ,\n",
              "        0.        ],\n",
              "       [0.04141617, 1.        , 0.        , ..., 1.        , 1.        ,\n",
              "        0.        ],\n",
              "       ...,\n",
              "       [0.94188377, 0.        , 0.16      , ..., 1.        , 1.        ,\n",
              "        0.        ],\n",
              "       [0.6753507 , 0.        , 0.16      , ..., 1.        , 1.        ,\n",
              "        1.        ],\n",
              "       [0.00601202, 1.        , 0.6       , ..., 1.        , 1.        ,\n",
              "        1.        ]])"
            ]
          },
          "metadata": {},
          "execution_count": 534
        }
      ],
      "source": [
        "x_scale"
      ]
    },
    {
      "cell_type": "code",
      "execution_count": 535,
      "id": "31c750dd",
      "metadata": {
        "id": "31c750dd"
      },
      "outputs": [],
      "source": [
        "y = dataFrame['price_range']"
      ]
    },
    {
      "cell_type": "code",
      "execution_count": 536,
      "id": "f5d797bf",
      "metadata": {
        "colab": {
          "base_uri": "https://localhost:8080/"
        },
        "id": "f5d797bf",
        "outputId": "45b3408c-536f-4668-947d-48f54eeee960"
      },
      "outputs": [
        {
          "output_type": "execute_result",
          "data": {
            "text/plain": [
              "0       1\n",
              "1       2\n",
              "2       2\n",
              "3       2\n",
              "4       1\n",
              "       ..\n",
              "1995    0\n",
              "1996    2\n",
              "1997    3\n",
              "1998    0\n",
              "1999    3\n",
              "Name: price_range, Length: 2000, dtype: int64"
            ]
          },
          "metadata": {},
          "execution_count": 536
        }
      ],
      "source": [
        "y"
      ]
    },
    {
      "cell_type": "code",
      "execution_count": 537,
      "id": "0bcca614",
      "metadata": {
        "id": "0bcca614"
      },
      "outputs": [],
      "source": [
        "# We alocate data into training data set and testing data set and validation dat set\n",
        "x_train, x_val_and_test, y_train, y_val_and_test = train_test_split(x_scale, y, test_size=0.2 , random_state=42)"
      ]
    },
    {
      "cell_type": "code",
      "execution_count": 538,
      "id": "a764bf70",
      "metadata": {
        "colab": {
          "base_uri": "https://localhost:8080/"
        },
        "id": "a764bf70",
        "outputId": "59ad2cdc-5f43-46d9-c173-327adb55a1a3"
      },
      "outputs": [
        {
          "output_type": "execute_result",
          "data": {
            "text/plain": [
              "array([[0.76486306, 0.        , 0.8       , ..., 1.        , 1.        ,\n",
              "        0.        ],\n",
              "       [0.45490982, 0.        , 0.        , ..., 1.        , 0.        ,\n",
              "        0.        ],\n",
              "       [0.98263193, 0.        , 0.96      , ..., 1.        , 1.        ,\n",
              "        0.        ],\n",
              "       ...,\n",
              "       [0.36272545, 0.        , 0.52      , ..., 1.        , 1.        ,\n",
              "        1.        ],\n",
              "       [0.15163661, 0.        , 0.88      , ..., 1.        , 1.        ,\n",
              "        1.        ],\n",
              "       [0.45691383, 0.        , 0.56      , ..., 1.        , 1.        ,\n",
              "        1.        ]])"
            ]
          },
          "metadata": {},
          "execution_count": 538
        }
      ],
      "source": [
        "x_val_and_test"
      ]
    },
    {
      "cell_type": "code",
      "execution_count": 539,
      "id": "ff3f543c",
      "metadata": {
        "id": "ff3f543c"
      },
      "outputs": [],
      "source": [
        "x_val, x_test, y_val, y_test = train_test_split(x_val_and_test, y_val_and_test, test_size=0.5)"
      ]
    },
    {
      "cell_type": "code",
      "execution_count": 540,
      "id": "9bfa6a1f",
      "metadata": {
        "colab": {
          "base_uri": "https://localhost:8080/"
        },
        "id": "9bfa6a1f",
        "outputId": "7c59c7d1-0df0-4476-f6ad-6bb5fc9d7a66"
      },
      "outputs": [
        {
          "output_type": "stream",
          "name": "stdout",
          "text": [
            "(1600, 20) (200, 20) (200, 20) (1600,) (200,) (200,)\n"
          ]
        }
      ],
      "source": [
        "print(x_train.shape, x_val.shape, x_test.shape, y_train.shape, y_val.shape, y_test.shape)"
      ]
    },
    {
      "cell_type": "code",
      "execution_count": 541,
      "id": "fb034585",
      "metadata": {
        "id": "fb034585"
      },
      "outputs": [],
      "source": [
        "from keras.models import Sequential\n",
        "from keras.layers import Dense\n",
        "from keras.losses import SparseCategoricalCrossentropy\n",
        "from keras.optimizers import Adam\n",
        "\n",
        "\n",
        "model = Sequential([\n",
        " Dense(16, activation=\"relu\", input_shape=(20,)),\n",
        " Dense(16,activation='relu'),\n",
        " Dense(4,activation='softmax')\n",
        "])\n",
        "model.compile(\n",
        "   loss = SparseCategoricalCrossentropy(),\n",
        "   optimizer = Adam(),\n",
        "   metrics=\"accuracy\")"
      ]
    },
    {
      "cell_type": "code",
      "execution_count": 542,
      "id": "87bc89c2",
      "metadata": {
        "colab": {
          "base_uri": "https://localhost:8080/"
        },
        "id": "87bc89c2",
        "outputId": "aeb30f1a-7041-4d3c-bea9-f708a8530a48"
      },
      "outputs": [
        {
          "output_type": "stream",
          "name": "stdout",
          "text": [
            "Epoch 1/50\n",
            "50/50 [==============================] - 1s 10ms/step - loss: 1.3966 - accuracy: 0.2425 - val_loss: 1.3880 - val_accuracy: 0.2400\n",
            "Epoch 2/50\n",
            "50/50 [==============================] - 0s 2ms/step - loss: 1.3596 - accuracy: 0.3219 - val_loss: 1.3432 - val_accuracy: 0.3900\n",
            "Epoch 3/50\n",
            "50/50 [==============================] - 0s 2ms/step - loss: 1.3168 - accuracy: 0.3900 - val_loss: 1.3019 - val_accuracy: 0.4550\n",
            "Epoch 4/50\n",
            "50/50 [==============================] - 0s 2ms/step - loss: 1.2614 - accuracy: 0.4294 - val_loss: 1.2247 - val_accuracy: 0.5000\n",
            "Epoch 5/50\n",
            "50/50 [==============================] - 0s 3ms/step - loss: 1.1833 - accuracy: 0.4694 - val_loss: 1.1353 - val_accuracy: 0.5100\n",
            "Epoch 6/50\n",
            "50/50 [==============================] - 0s 2ms/step - loss: 1.0912 - accuracy: 0.5113 - val_loss: 1.0350 - val_accuracy: 0.5850\n",
            "Epoch 7/50\n",
            "50/50 [==============================] - 0s 2ms/step - loss: 0.9920 - accuracy: 0.5775 - val_loss: 0.9278 - val_accuracy: 0.6300\n",
            "Epoch 8/50\n",
            "50/50 [==============================] - 0s 2ms/step - loss: 0.8949 - accuracy: 0.6562 - val_loss: 0.8480 - val_accuracy: 0.7300\n",
            "Epoch 9/50\n",
            "50/50 [==============================] - 0s 2ms/step - loss: 0.8121 - accuracy: 0.7106 - val_loss: 0.7535 - val_accuracy: 0.7650\n",
            "Epoch 10/50\n",
            "50/50 [==============================] - 0s 2ms/step - loss: 0.7403 - accuracy: 0.7588 - val_loss: 0.6948 - val_accuracy: 0.7950\n",
            "Epoch 11/50\n",
            "50/50 [==============================] - 0s 2ms/step - loss: 0.6798 - accuracy: 0.7887 - val_loss: 0.6369 - val_accuracy: 0.8450\n",
            "Epoch 12/50\n",
            "50/50 [==============================] - 0s 2ms/step - loss: 0.6281 - accuracy: 0.8062 - val_loss: 0.5911 - val_accuracy: 0.8550\n",
            "Epoch 13/50\n",
            "50/50 [==============================] - 0s 2ms/step - loss: 0.5827 - accuracy: 0.8206 - val_loss: 0.5622 - val_accuracy: 0.8200\n",
            "Epoch 14/50\n",
            "50/50 [==============================] - 0s 2ms/step - loss: 0.5414 - accuracy: 0.8419 - val_loss: 0.5169 - val_accuracy: 0.8600\n",
            "Epoch 15/50\n",
            "50/50 [==============================] - 0s 2ms/step - loss: 0.5042 - accuracy: 0.8537 - val_loss: 0.4853 - val_accuracy: 0.8550\n",
            "Epoch 16/50\n",
            "50/50 [==============================] - 0s 2ms/step - loss: 0.4743 - accuracy: 0.8656 - val_loss: 0.4511 - val_accuracy: 0.8650\n",
            "Epoch 17/50\n",
            "50/50 [==============================] - 0s 2ms/step - loss: 0.4455 - accuracy: 0.8706 - val_loss: 0.4250 - val_accuracy: 0.8800\n",
            "Epoch 18/50\n",
            "50/50 [==============================] - 0s 2ms/step - loss: 0.4198 - accuracy: 0.8706 - val_loss: 0.4057 - val_accuracy: 0.8850\n",
            "Epoch 19/50\n",
            "50/50 [==============================] - 0s 2ms/step - loss: 0.3979 - accuracy: 0.8806 - val_loss: 0.3897 - val_accuracy: 0.8850\n",
            "Epoch 20/50\n",
            "50/50 [==============================] - 0s 2ms/step - loss: 0.3785 - accuracy: 0.8869 - val_loss: 0.3668 - val_accuracy: 0.9100\n",
            "Epoch 21/50\n",
            "50/50 [==============================] - 0s 2ms/step - loss: 0.3615 - accuracy: 0.8881 - val_loss: 0.3519 - val_accuracy: 0.9000\n",
            "Epoch 22/50\n",
            "50/50 [==============================] - 0s 2ms/step - loss: 0.3411 - accuracy: 0.8963 - val_loss: 0.3351 - val_accuracy: 0.9150\n",
            "Epoch 23/50\n",
            "50/50 [==============================] - 0s 2ms/step - loss: 0.3285 - accuracy: 0.8981 - val_loss: 0.3268 - val_accuracy: 0.9050\n",
            "Epoch 24/50\n",
            "50/50 [==============================] - 0s 2ms/step - loss: 0.3135 - accuracy: 0.9062 - val_loss: 0.3081 - val_accuracy: 0.9250\n",
            "Epoch 25/50\n",
            "50/50 [==============================] - 0s 2ms/step - loss: 0.3012 - accuracy: 0.9019 - val_loss: 0.3131 - val_accuracy: 0.9000\n",
            "Epoch 26/50\n",
            "50/50 [==============================] - 0s 2ms/step - loss: 0.2900 - accuracy: 0.9106 - val_loss: 0.2822 - val_accuracy: 0.9400\n",
            "Epoch 27/50\n",
            "50/50 [==============================] - 0s 2ms/step - loss: 0.2843 - accuracy: 0.9094 - val_loss: 0.3101 - val_accuracy: 0.8850\n",
            "Epoch 28/50\n",
            "50/50 [==============================] - 0s 2ms/step - loss: 0.2716 - accuracy: 0.9237 - val_loss: 0.2623 - val_accuracy: 0.9400\n",
            "Epoch 29/50\n",
            "50/50 [==============================] - 0s 2ms/step - loss: 0.2611 - accuracy: 0.9219 - val_loss: 0.2625 - val_accuracy: 0.9300\n",
            "Epoch 30/50\n",
            "50/50 [==============================] - 0s 2ms/step - loss: 0.2517 - accuracy: 0.9194 - val_loss: 0.2538 - val_accuracy: 0.9350\n",
            "Epoch 31/50\n",
            "50/50 [==============================] - 0s 3ms/step - loss: 0.2432 - accuracy: 0.9262 - val_loss: 0.2425 - val_accuracy: 0.9400\n",
            "Epoch 32/50\n",
            "50/50 [==============================] - 0s 2ms/step - loss: 0.2378 - accuracy: 0.9269 - val_loss: 0.2362 - val_accuracy: 0.9400\n",
            "Epoch 33/50\n",
            "50/50 [==============================] - 0s 2ms/step - loss: 0.2291 - accuracy: 0.9275 - val_loss: 0.2512 - val_accuracy: 0.9200\n",
            "Epoch 34/50\n",
            "50/50 [==============================] - 0s 2ms/step - loss: 0.2246 - accuracy: 0.9219 - val_loss: 0.2337 - val_accuracy: 0.9350\n",
            "Epoch 35/50\n",
            "50/50 [==============================] - 0s 2ms/step - loss: 0.2239 - accuracy: 0.9325 - val_loss: 0.2312 - val_accuracy: 0.9300\n",
            "Epoch 36/50\n",
            "50/50 [==============================] - 0s 2ms/step - loss: 0.2115 - accuracy: 0.9362 - val_loss: 0.2179 - val_accuracy: 0.9450\n",
            "Epoch 37/50\n",
            "50/50 [==============================] - 0s 2ms/step - loss: 0.2105 - accuracy: 0.9356 - val_loss: 0.2143 - val_accuracy: 0.9350\n",
            "Epoch 38/50\n",
            "50/50 [==============================] - 0s 2ms/step - loss: 0.2041 - accuracy: 0.9413 - val_loss: 0.2034 - val_accuracy: 0.9500\n",
            "Epoch 39/50\n",
            "50/50 [==============================] - 0s 2ms/step - loss: 0.2016 - accuracy: 0.9381 - val_loss: 0.2126 - val_accuracy: 0.9300\n",
            "Epoch 40/50\n",
            "50/50 [==============================] - 0s 2ms/step - loss: 0.1957 - accuracy: 0.9419 - val_loss: 0.2120 - val_accuracy: 0.9350\n",
            "Epoch 41/50\n",
            "50/50 [==============================] - 0s 2ms/step - loss: 0.1915 - accuracy: 0.9369 - val_loss: 0.1942 - val_accuracy: 0.9500\n",
            "Epoch 42/50\n",
            "50/50 [==============================] - 0s 2ms/step - loss: 0.1866 - accuracy: 0.9419 - val_loss: 0.2034 - val_accuracy: 0.9300\n",
            "Epoch 43/50\n",
            "50/50 [==============================] - 0s 2ms/step - loss: 0.1823 - accuracy: 0.9481 - val_loss: 0.1940 - val_accuracy: 0.9350\n",
            "Epoch 44/50\n",
            "50/50 [==============================] - 0s 3ms/step - loss: 0.1796 - accuracy: 0.9438 - val_loss: 0.1853 - val_accuracy: 0.9500\n",
            "Epoch 45/50\n",
            "50/50 [==============================] - 0s 3ms/step - loss: 0.1762 - accuracy: 0.9475 - val_loss: 0.1819 - val_accuracy: 0.9550\n",
            "Epoch 46/50\n",
            "50/50 [==============================] - 0s 2ms/step - loss: 0.1734 - accuracy: 0.9431 - val_loss: 0.1821 - val_accuracy: 0.9450\n",
            "Epoch 47/50\n",
            "50/50 [==============================] - 0s 2ms/step - loss: 0.1740 - accuracy: 0.9394 - val_loss: 0.1726 - val_accuracy: 0.9600\n",
            "Epoch 48/50\n",
            "50/50 [==============================] - 0s 2ms/step - loss: 0.1666 - accuracy: 0.9419 - val_loss: 0.1757 - val_accuracy: 0.9500\n",
            "Epoch 49/50\n",
            "50/50 [==============================] - 0s 2ms/step - loss: 0.1620 - accuracy: 0.9488 - val_loss: 0.1762 - val_accuracy: 0.9500\n",
            "Epoch 50/50\n",
            "50/50 [==============================] - 0s 2ms/step - loss: 0.1632 - accuracy: 0.9431 - val_loss: 0.1700 - val_accuracy: 0.9500\n"
          ]
        },
        {
          "output_type": "execute_result",
          "data": {
            "text/plain": [
              "<keras.callbacks.History at 0x7fa40b49ea90>"
            ]
          },
          "metadata": {},
          "execution_count": 542
        }
      ],
      "source": [
        "# Fitting the Model\n",
        "model.fit(x_train,y_train,validation_data=(x_val, y_val),epochs=50)"
      ]
    },
    {
      "cell_type": "code",
      "execution_count": 543,
      "id": "3968aee5",
      "metadata": {
        "colab": {
          "base_uri": "https://localhost:8080/"
        },
        "id": "3968aee5",
        "outputId": "3e4d3be7-7ad0-4e1c-8ecb-8c518dc51f72"
      },
      "outputs": [
        {
          "output_type": "execute_result",
          "data": {
            "text/plain": [
              "(1600, 20)"
            ]
          },
          "metadata": {},
          "execution_count": 543
        }
      ],
      "source": [
        "x_train.shape"
      ]
    },
    {
      "cell_type": "code",
      "execution_count": 544,
      "id": "e09b5f0b",
      "metadata": {
        "colab": {
          "base_uri": "https://localhost:8080/"
        },
        "id": "e09b5f0b",
        "outputId": "5f99f6a1-d874-46e7-dc65-3409a485df2c"
      },
      "outputs": [
        {
          "output_type": "stream",
          "name": "stdout",
          "text": [
            "7/7 [==============================] - 0s 2ms/step - loss: 0.1889 - accuracy: 0.9300\n"
          ]
        },
        {
          "output_type": "execute_result",
          "data": {
            "text/plain": [
              "[0.18886838853359222, 0.9300000071525574]"
            ]
          },
          "metadata": {},
          "execution_count": 544
        }
      ],
      "source": [
        "# Model Evaluation\n",
        "model.evaluate(x_test, y_test)"
      ]
    },
    {
      "cell_type": "code",
      "source": [
        "def predictionrelease(preds):\n",
        "    arr=[]\n",
        "    for i in range(0,len(preds)):\n",
        "        ans=np.argmax(preds[i])\n",
        "        arr.append(ans)\n",
        "    len(arr)\n",
        "    return arr"
      ],
      "metadata": {
        "id": "HhqryU2rTwRB"
      },
      "id": "HhqryU2rTwRB",
      "execution_count": 545,
      "outputs": []
    },
    {
      "cell_type": "code",
      "execution_count": 546,
      "id": "9811e623",
      "metadata": {
        "colab": {
          "base_uri": "https://localhost:8080/"
        },
        "id": "9811e623",
        "outputId": "8ce6fb87-629b-4b50-c7bd-ce8675ade556"
      },
      "outputs": [
        {
          "output_type": "stream",
          "name": "stdout",
          "text": [
            "7/7 [==============================] - 0s 2ms/step\n"
          ]
        }
      ],
      "source": [
        "# Model Prediction\n",
        "prediction_y = model.predict(x_test)      \n",
        "prediction = predictionrelease(prediction_y)"
      ]
    },
    {
      "cell_type": "code",
      "execution_count": 547,
      "id": "be9f244b",
      "metadata": {
        "id": "be9f244b",
        "colab": {
          "base_uri": "https://localhost:8080/"
        },
        "outputId": "d14e6290-68f0-4540-a2d0-d355a01c526d"
      },
      "outputs": [
        {
          "output_type": "stream",
          "name": "stdout",
          "text": [
            "              precision    recall  f1-score   support\n",
            "\n",
            "           0       0.98      1.00      0.99        60\n",
            "           1       0.94      0.96      0.95        50\n",
            "           2       0.88      0.77      0.82        39\n",
            "           3       0.89      0.94      0.91        51\n",
            "\n",
            "    accuracy                           0.93       200\n",
            "   macro avg       0.92      0.92      0.92       200\n",
            "weighted avg       0.93      0.93      0.93       200\n",
            "\n"
          ]
        }
      ],
      "source": [
        "# Analysis\n",
        "print(classification_report(y_test,prediction)) \n"
      ]
    },
    {
      "cell_type": "code",
      "execution_count": 548,
      "id": "3af12bd5",
      "metadata": {
        "id": "3af12bd5"
      },
      "outputs": [],
      "source": [
        "##### Comparison "
      ]
    },
    {
      "cell_type": "code",
      "execution_count": 549,
      "id": "38c605f5",
      "metadata": {
        "id": "38c605f5"
      },
      "outputs": [],
      "source": [
        "import matplotlib.pyplot as plt"
      ]
    },
    {
      "cell_type": "code",
      "execution_count": 550,
      "id": "a861dd99",
      "metadata": {
        "id": "a861dd99",
        "colab": {
          "base_uri": "https://localhost:8080/",
          "height": 284
        },
        "outputId": "a2e22340-8d4f-471d-9f45-c79735426489"
      },
      "outputs": [
        {
          "output_type": "display_data",
          "data": {
            "text/plain": [
              "<Figure size 432x288 with 1 Axes>"
            ],
            "image/png": "[encoded data removed]"
          },
          "metadata": {}
        }
      ],
      "source": [
        "models = ['Knn Model','Multi Layer N']\n",
        "acc_scores = [0.9425, 0.9660]\n",
        "\n",
        "plt.bar(models, acc_scores, color=['Green', 'darkblue'])\n",
        "plt.ylabel(\"Accuracy\")\n",
        "plt.title(\"Most accurate Model\")\n",
        "plt.show()"
      ]
    }
  ],
  "metadata": {
    "kernelspec": {
      "display_name": "Python 3 (ipykernel)",
      "language": "python",
      "name": "python3"
    },
    "language_info": {
      "codemirror_mode": {
        "name": "ipython",
        "version": 3
      },
      "file_extension": ".py",
      "mimetype": "text/x-python",
      "name": "python",
      "nbconvert_exporter": "python",
      "pygments_lexer": "ipython3",
      "version": "3.9.15"
    },
    "colab": {
      "provenance": [],
      "include_colab_link": true
    }
  },
  "nbformat": 4,
  "nbformat_minor": 5
}